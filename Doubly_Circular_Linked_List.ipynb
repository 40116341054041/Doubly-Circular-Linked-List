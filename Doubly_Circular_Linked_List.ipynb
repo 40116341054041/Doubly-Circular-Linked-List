{
  "nbformat": 4,
  "nbformat_minor": 0,
  "metadata": {
    "colab": {
      "provenance": [],
      "authorship_tag": "ABX9TyPKSbyXOsNKIJA25eDmEn0I",
      "include_colab_link": true
    },
    "kernelspec": {
      "name": "python3",
      "display_name": "Python 3"
    },
    "language_info": {
      "name": "python"
    }
  },
  "cells": [
    {
      "cell_type": "markdown",
      "metadata": {
        "id": "view-in-github",
        "colab_type": "text"
      },
      "source": [
        "<a href=\"https://colab.research.google.com/github/40116341054041/Doubly-Circular-Linked-List/blob/main/Doubly_Circular_Linked_List.ipynb\" target=\"_parent\"><img src=\"https://colab.research.google.com/assets/colab-badge.svg\" alt=\"Open In Colab\"/></a>"
      ]
    },
    {
      "cell_type": "code",
      "execution_count": 11,
      "metadata": {
        "id": "_D-JZcusPxP1"
      },
      "outputs": [],
      "source": [
        "class node:\n",
        "  def __init__(self , data):\n",
        "    self.data = data\n",
        "    self.next = None\n",
        "    self.prev = None\n",
        "\n",
        "class Doubly_Circular_Liked_List:\n",
        "  def __init__(self):\n",
        "    self.head = None\n",
        "    self.tail = None\n",
        "\n",
        "  def is_empty(self):\n",
        "    return self.head is None\n",
        "\n",
        "  def get_size (self):\n",
        "    size = 0\n",
        "    if self.is_empty():\n",
        "      return size\n",
        "    t = self.head\n",
        "    size +=1\n",
        "    while t.next != self.head:\n",
        "      size +=1\n",
        "      t = t.next\n",
        "    return size\n",
        "\n",
        "  def add_in_first (self , data):\n",
        "    n = node(data)\n",
        "    if self.is_empty():\n",
        "      self.head = n\n",
        "      self.tail = n\n",
        "      n.next = self.head\n",
        "      n.prev = self.head\n",
        "    else:\n",
        "      n.next = self.head\n",
        "      n.prev = self.tail\n",
        "      self.head.prev = n\n",
        "      self.tail.next = n\n",
        "      self.head = n\n",
        "\n",
        "  def add_in_end(self , data):\n",
        "    n = node(data)\n",
        "    if self.is_empty():\n",
        "      self.head = n\n",
        "      self.tail = n\n",
        "      n.next = self.head\n",
        "      n.prev = self.head\n",
        "    else:\n",
        "      n.next = self.head\n",
        "      n.prev = self.tail\n",
        "      self.tail.next = n\n",
        "      self.head.prev = n\n",
        "      self.tail = n\n",
        "\n",
        "  def add_in_middle(self , m , data):\n",
        "    if m < 0 or m > self.get_size():\n",
        "      return False\n",
        "    elif m == 0:\n",
        "      self.add_in_first(data)\n",
        "    elif m == self.get_size():\n",
        "      self.add_in_end(data)\n",
        "    else:\n",
        "      n = node(data)\n",
        "      t = self.head\n",
        "      for _ in range(m - 1):\n",
        "        t = t.next\n",
        "      n.next = t.next\n",
        "      n.prev =t\n",
        "      t.next.prev = n\n",
        "      t.next = n\n",
        "\n",
        "\n",
        "  def delet_at_first(self):\n",
        "    if self.is_empty():\n",
        "      raise IndexError(\" list is empty\")\n",
        "    elif self.get_size() == 1:\n",
        "      self.head = None\n",
        "      self.tail = None\n",
        "    else:\n",
        "      self.head = self.head.next\n",
        "      self.head.prev = self.tail\n",
        "      self.tail.next = self.head\n",
        "\n",
        "  def delet_at_end(self):\n",
        "    if self.is_empty():\n",
        "      raise IndexError(\"list is empty\")\n",
        "    elif self.get_size() == 1:\n",
        "      self.head = None\n",
        "      self.tail = None\n",
        "    else:\n",
        "      self.tail = self.tail.prev\n",
        "      self.tail.next = self.head\n",
        "      self.head.prev = self.tail\n",
        "\n",
        "  def delet_at_middle(self , m):\n",
        "    if m < 0 or m >= self.get_size():\n",
        "      raise IndexError(\"invalid possition\")\n",
        "    elif m ==0:\n",
        "      self.delet_at_first()\n",
        "    elif m == self.get_size() - 1:\n",
        "      self.delet_at_end()\n",
        "    else:\n",
        "      t = self.head\n",
        "      for _ in range(m):\n",
        "        t = t.next\n",
        "      t.prev.next = t.next\n",
        "      t.next.prev = t.prev\n",
        "\n",
        "  def display(self):\n",
        "    if self.is_empty():\n",
        "      print(\"list is empty\")\n",
        "      return\n",
        "    t = self.head\n",
        "    while True:\n",
        "      print(t.data , end= \" \")\n",
        "      t = t.next\n",
        "      if t == self.head:\n",
        "        break\n",
        "    print()"
      ]
    },
    {
      "cell_type": "code",
      "source": [
        "list = Doubly_Circular_Liked_List()\n",
        "list.add_in_first(10)\n",
        "list.add_in_first(11)\n",
        "list.add_in_first(12)\n",
        "list.add_in_middle(23 , 3)\n",
        "list.add_in_end(27)\n",
        "\n",
        "\n",
        "\n",
        "list.delet_at_first()\n",
        "list.delet_at_end()\n",
        "list.delet_at_middle(1)\n",
        "\n",
        "list.display()"
      ],
      "metadata": {
        "colab": {
          "base_uri": "https://localhost:8080/"
        },
        "id": "rDUIYnbnX0Q1",
        "outputId": "840d8d3c-eeb8-4fbe-ee23-02e6d53acee6"
      },
      "execution_count": 18,
      "outputs": [
        {
          "output_type": "stream",
          "name": "stdout",
          "text": [
            "11 \n"
          ]
        }
      ]
    }
  ]
}